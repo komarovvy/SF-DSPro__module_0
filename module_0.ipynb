{
 "cells": [
  {
   "cell_type": "markdown",
   "metadata": {},
   "source": [
    "# Проект DSPro, Юнит 0\n",
    "Решение: Владислав Комаров, DSPR-36\n",
    "## Исходный код v.0\n",
    "Подбор загаданного числа пользователем"
   ]
  },
  {
   "cell_type": "code",
   "execution_count": 2,
   "metadata": {},
   "outputs": [
    {
     "name": "stdout",
     "output_type": "stream",
     "text": [
      "Загадано число от 1 до 100\n",
      "50\n",
      "Угадываемое число меньше 50 \n",
      "25\n",
      "Угадываемое число меньше 25 \n",
      "12\n",
      "Угадываемое число больше 12 \n",
      "18\n",
      "Угадываемое число больше 18 \n",
      "21\n",
      "Угадываемое число больше 21 \n",
      "23\n",
      "Угадываемое число больше 23 \n",
      "24\n",
      "Вы угадали число 24 за 7 попыток.\n"
     ]
    }
   ],
   "source": [
    "import numpy as np\n",
    "\n",
    "count = 0                           # счетчик попыток\n",
    "number = np.random.randint(1,101)   # загадали число\n",
    "print (\"Загадано число от 1 до 100\")\n",
    "    \n",
    "while True:                        # бесконечный цикл\n",
    "    predict = int(input())         # предполагаемое число\n",
    "    count += 1                     # плюсуем попытку\n",
    "    if number == predict: break    # выход из цикла, если угадали\n",
    "    elif number > predict: print (f\"Угадываемое число больше {predict} \")\n",
    "    elif number < predict: print (f\"Угадываемое число меньше {predict} \")\n",
    "            \n",
    "print (f\"Вы угадали число {number} за {count} попыток.\")    "
   ]
  },
  {
   "cell_type": "markdown",
   "metadata": {},
   "source": [
    "## Автоматическая проверка алгоритма угадывания числа [1..100]\n",
    "Статистика автоматического подбора чисел по 1000 попыток\n",
    "\n",
    "game_core_v1 - последовательный перебор от 1 до 100 (из задания)\n",
    "\n",
    "game_core_v2 - перебор со случайного значения в сторону приближения к ответу (из задания)\n",
    "\n",
    "**game_core_v3** - метод деления пополам (**решение**)"
   ]
  },
  {
   "cell_type": "code",
   "execution_count": 17,
   "metadata": {},
   "outputs": [
    {
     "name": "stdout",
     "output_type": "stream",
     "text": [
      "'Последовательный перебор' угадывает число в среднем за 101 попыток\n",
      "'Направленный перебор' угадывает число в среднем за 33 попыток\n",
      "'Деление пополам' угадывает число в среднем за 5 попыток\n"
     ]
    },
    {
     "data": {
      "text/plain": [
       "5"
      ]
     },
     "execution_count": 17,
     "metadata": {},
     "output_type": "execute_result"
    }
   ],
   "source": [
    "def game_core_v1(number):\n",
    "    '''Просто угадываем на random, никак не используя информацию о больше или меньше.\n",
    "       Функция принимает загаданное число и возвращает число попыток'''\n",
    "    count = 0\n",
    "    while True:\n",
    "        count+=1\n",
    "        predict = np.random.randint(1,101) # предполагаемое число\n",
    "        if number == predict: \n",
    "            return count # выход из цикла, если угадали\n",
    "\n",
    "        \n",
    "def game_core_v2(number):\n",
    "    '''Сначала устанавливаем любое random число, а потом уменьшаем или увеличиваем его в зависимости от того, больше оно или меньше нужного.\n",
    "       Функция принимает загаданное число и возвращает число попыток'''\n",
    "    count = 1\n",
    "    predict = np.random.randint(1,101)\n",
    "    while number != predict:\n",
    "        count+=1\n",
    "        if number > predict: \n",
    "            predict += 1\n",
    "        elif number < predict: \n",
    "            predict -= 1\n",
    "    return(count) # выход из цикла, если угадали\n",
    "        \n",
    "\n",
    "# Алгоритм подбора числа, реализованный в рамках задания    \n",
    "def game_core_v3(number):\n",
    "    ''' Сравнивает с серединой интервала. Корректирует интервал в зависимости от результата сравнения.'''\n",
    "    count = 1\n",
    "    borders = [1, 100]\n",
    "    predict = (borders[0] + borders[1])//2\n",
    "    while number != predict:\n",
    "        count+=1\n",
    "        if number > predict: \n",
    "            borders[0] = predict + 1\n",
    "        elif number < predict: \n",
    "            borders[1] = predict - 1\n",
    "        predict = (borders[0] + borders[1])//2\n",
    "    return(count) # выход из цикла, если угадали\n",
    "        \n",
    "        \n",
    "def score_game(description, game_core):\n",
    "    '''Запускаем игру 1000 раз, чтобы узнать, как быстро игра угадывает число'''\n",
    "    count_ls = []\n",
    "    np.random.seed(1)  # фиксируем RANDOM SEED, чтобы ваш эксперимент был воспроизводим!\n",
    "    random_array = np.random.randint(1,101, size=(1000))\n",
    "    for number in random_array:\n",
    "        count_ls.append(game_core(number))\n",
    "    score = int(np.mean(count_ls))\n",
    "    print(f\"'{description}' угадывает число в среднем за {score} попыток\")\n",
    "    return(score)\n",
    "\n",
    "# Алгоритмы подбора числа, приведенные в описании задания  \n",
    "score_game(\"Последовательный перебор\", game_core_v1)\n",
    "score_game(\"Направленный перебор\", game_core_v2)\n",
    "\n",
    "# Алгоритм подбора числа, реализованный в рамках задания  \n",
    "score_game(\"Деление пополам\", game_core_v3)\n"
   ]
  }
 ],
 "metadata": {
  "kernelspec": {
   "display_name": "Python 3",
   "language": "python",
   "name": "python3"
  },
  "language_info": {
   "codemirror_mode": {
    "name": "ipython",
    "version": 3
   },
   "file_extension": ".py",
   "mimetype": "text/x-python",
   "name": "python",
   "nbconvert_exporter": "python",
   "pygments_lexer": "ipython3",
   "version": "3.8.3"
  }
 },
 "nbformat": 4,
 "nbformat_minor": 4
}
